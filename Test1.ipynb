{
  "nbformat": 4,
  "nbformat_minor": 0,
  "metadata": {
    "colab": {
      "name": "Untitled0.ipynb",
      "provenance": [],
      "authorship_tag": "ABX9TyN6YRJBn1hrKoPS7XmUV2kA",
      "include_colab_link": true
    },
    "kernelspec": {
      "name": "python3",
      "display_name": "Python 3"
    }
  },
  "cells": [
    {
      "cell_type": "markdown",
      "metadata": {
        "id": "view-in-github",
        "colab_type": "text"
      },
      "source": [
        "<a href=\"https://colab.research.google.com/github/JappreetM/Basic-Python-Programs/blob/master/Test1.ipynb\" target=\"_parent\"><img src=\"https://colab.research.google.com/assets/colab-badge.svg\" alt=\"Open In Colab\"/></a>"
      ]
    },
    {
      "cell_type": "code",
      "metadata": {
        "id": "XIHG_AkYxhwm",
        "colab_type": "code",
        "colab": {
          "base_uri": "https://localhost:8080/",
          "height": 34
        },
        "outputId": "b2b10511-a7e4-455a-ce99-057855b138dd"
      },
      "source": [
        "# Program to print Hello World!\n",
        "print(\"Hello World!\") "
      ],
      "execution_count": null,
      "outputs": [
        {
          "output_type": "stream",
          "text": [
            "Hello World!\n"
          ],
          "name": "stdout"
        }
      ]
    },
    {
      "cell_type": "code",
      "metadata": {
        "id": "NCOwFjHrHOFq",
        "colab_type": "code",
        "colab": {
          "base_uri": "https://localhost:8080/",
          "height": 50
        },
        "outputId": "33be1599-5472-4c72-ac77-8b4479a7ac50"
      },
      "source": [
        "# Program to add two numbers\n",
        "a = 1\n",
        "b = 2\n",
        "print(a + b)\n",
        "print('total: ' +str(a+b))"
      ],
      "execution_count": null,
      "outputs": [
        {
          "output_type": "stream",
          "text": [
            "3\n",
            "total: 3\n"
          ],
          "name": "stdout"
        }
      ]
    },
    {
      "cell_type": "code",
      "metadata": {
        "id": "Vy-QpeKLH7za",
        "colab_type": "code",
        "colab": {
          "base_uri": "https://localhost:8080/",
          "height": 50
        },
        "outputId": "dab7cd27-0ef5-4fb7-e1a5-9fddab862f8d"
      },
      "source": [
        "# Program to find square root\n",
        "a = int(input(\"Enter a number to find square root: \"))\n",
        "print(\"Square root of \" + str(a) +\" is \" +str(a** 0.5))\n"
      ],
      "execution_count": null,
      "outputs": [
        {
          "output_type": "stream",
          "text": [
            "Enter a number to find square root: 16\n",
            "Square root of 16 is 4.0\n"
          ],
          "name": "stdout"
        }
      ]
    },
    {
      "cell_type": "code",
      "metadata": {
        "id": "xkRIjQ5KI-sP",
        "colab_type": "code",
        "colab": {
          "base_uri": "https://localhost:8080/",
          "height": 101
        },
        "outputId": "19f5f921-086c-4320-e676-b35eba689df0"
      },
      "source": [
        "# Program to calculate the area of a triangle\n",
        "# Formula used is Heron's Formula(Using 3 sides)\n",
        "a, b, c = int(input(\"Enter 3 sides of triangle in cms: \\n\")), int(input()), int(input())\n",
        "s = (a+b+c)/2  \n",
        "area = (s*(s-a)*(s-b)*(s-c))** .5\n",
        "print('Area of the triangle is %0.2f cm^2' %area)\n"
      ],
      "execution_count": null,
      "outputs": [
        {
          "output_type": "stream",
          "text": [
            "Enter 3 sides of triangle in cms: \n",
            "2\n",
            "3\n",
            "4\n",
            "Area of the triangle is 2.90 cm^2\n"
          ],
          "name": "stdout"
        }
      ]
    }
  ]
}